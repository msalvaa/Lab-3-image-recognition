{
 "cells": [
  {
   "cell_type": "code",
   "execution_count": 10,
   "id": "1cddbce2",
   "metadata": {},
   "outputs": [],
   "source": [
    "import os\n",
    "import re\n",
    "import glob\n",
    "import pandas as pd"
   ]
  },
  {
   "cell_type": "code",
   "execution_count": 28,
   "id": "e7cfc36b",
   "metadata": {},
   "outputs": [],
   "source": [
    "meses={\"Jan\":1, \"Feb\":2, \"Mar\":3, \"Apr\":4, \"May\":5, \"Jun\":6, \"Jul\":7, \"Aug\":8, \"Sep\":9, \"Oct\":10, \"Nov\":11, \"Dec\":12}\n",
    "\n",
    "dfs=[]\n",
    "\n",
    "for i in glob.glob('./*.txt'):\n",
    "    data=pd.read_csv(i, sep=\" \", header=None)\n",
    "    data.columns=[\"fecha\"]\n",
    "    data[\"dia\"]=data[\"fecha\"].apply(lambda x: re.search(r'^\\d{1,2}(?=[-/. ])', x).group()).astype(int)\n",
    "    data[\"mes\"]=data[\"fecha\"].apply(lambda x: re.search(r'(?<=[-/. ])(\\d{1,2}|Jan|Feb|Mar|Apr|May|Jun|Jul|Aug|Sep|Oct|Nov|Dec)(?=[-/. ])', x).group())\n",
    "    data[\"mes\"]=data[\"mes\"].apply(lambda x: meses.get(x, x)).astype(int)\n",
    "    data[\"año\"]=data[\"fecha\"].apply(lambda x: re.search(r'(?<=[-/. ])\\d{2,4}$', x).group()).astype(int)\n",
    "    dfs.append(data)"
   ]
  },
  {
   "cell_type": "code",
   "execution_count": 29,
   "id": "563d4c29",
   "metadata": {},
   "outputs": [],
   "source": [
    "final_data=pd.concat(dfs, ignore_index=True)"
   ]
  },
  {
   "cell_type": "code",
   "execution_count": 30,
   "id": "8faf9e24",
   "metadata": {},
   "outputs": [
    {
     "data": {
      "text/html": [
       "<div>\n",
       "<style scoped>\n",
       "    .dataframe tbody tr th:only-of-type {\n",
       "        vertical-align: middle;\n",
       "    }\n",
       "\n",
       "    .dataframe tbody tr th {\n",
       "        vertical-align: top;\n",
       "    }\n",
       "\n",
       "    .dataframe thead th {\n",
       "        text-align: right;\n",
       "    }\n",
       "</style>\n",
       "<table border=\"1\" class=\"dataframe\">\n",
       "  <thead>\n",
       "    <tr style=\"text-align: right;\">\n",
       "      <th></th>\n",
       "      <th>fecha</th>\n",
       "      <th>dia</th>\n",
       "      <th>mes</th>\n",
       "      <th>año</th>\n",
       "    </tr>\n",
       "  </thead>\n",
       "  <tbody>\n",
       "    <tr>\n",
       "      <th>0</th>\n",
       "      <td>23/02/2017</td>\n",
       "      <td>23</td>\n",
       "      <td>2</td>\n",
       "      <td>2017</td>\n",
       "    </tr>\n",
       "    <tr>\n",
       "      <th>1</th>\n",
       "      <td>21/11/2016</td>\n",
       "      <td>21</td>\n",
       "      <td>11</td>\n",
       "      <td>2016</td>\n",
       "    </tr>\n",
       "    <tr>\n",
       "      <th>2</th>\n",
       "      <td>12/02/2017</td>\n",
       "      <td>12</td>\n",
       "      <td>2</td>\n",
       "      <td>2017</td>\n",
       "    </tr>\n",
       "    <tr>\n",
       "      <th>3</th>\n",
       "      <td>06/06/2016</td>\n",
       "      <td>6</td>\n",
       "      <td>6</td>\n",
       "      <td>2016</td>\n",
       "    </tr>\n",
       "    <tr>\n",
       "      <th>4</th>\n",
       "      <td>04/05/2018</td>\n",
       "      <td>4</td>\n",
       "      <td>5</td>\n",
       "      <td>2018</td>\n",
       "    </tr>\n",
       "    <tr>\n",
       "      <th>...</th>\n",
       "      <td>...</td>\n",
       "      <td>...</td>\n",
       "      <td>...</td>\n",
       "      <td>...</td>\n",
       "    </tr>\n",
       "    <tr>\n",
       "      <th>20995</th>\n",
       "      <td>08.05.2016</td>\n",
       "      <td>8</td>\n",
       "      <td>5</td>\n",
       "      <td>2016</td>\n",
       "    </tr>\n",
       "    <tr>\n",
       "      <th>20996</th>\n",
       "      <td>28.09.2016</td>\n",
       "      <td>28</td>\n",
       "      <td>9</td>\n",
       "      <td>2016</td>\n",
       "    </tr>\n",
       "    <tr>\n",
       "      <th>20997</th>\n",
       "      <td>14.04.2019</td>\n",
       "      <td>14</td>\n",
       "      <td>4</td>\n",
       "      <td>2019</td>\n",
       "    </tr>\n",
       "    <tr>\n",
       "      <th>20998</th>\n",
       "      <td>11.12.2014</td>\n",
       "      <td>11</td>\n",
       "      <td>12</td>\n",
       "      <td>2014</td>\n",
       "    </tr>\n",
       "    <tr>\n",
       "      <th>20999</th>\n",
       "      <td>13.08.2018</td>\n",
       "      <td>13</td>\n",
       "      <td>8</td>\n",
       "      <td>2018</td>\n",
       "    </tr>\n",
       "  </tbody>\n",
       "</table>\n",
       "<p>21000 rows × 4 columns</p>\n",
       "</div>"
      ],
      "text/plain": [
       "            fecha  dia  mes   año\n",
       "0      23/02/2017   23    2  2017\n",
       "1      21/11/2016   21   11  2016\n",
       "2      12/02/2017   12    2  2017\n",
       "3      06/06/2016    6    6  2016\n",
       "4      04/05/2018    4    5  2018\n",
       "...           ...  ...  ...   ...\n",
       "20995  08.05.2016    8    5  2016\n",
       "20996  28.09.2016   28    9  2016\n",
       "20997  14.04.2019   14    4  2019\n",
       "20998  11.12.2014   11   12  2014\n",
       "20999  13.08.2018   13    8  2018\n",
       "\n",
       "[21000 rows x 4 columns]"
      ]
     },
     "execution_count": 30,
     "metadata": {},
     "output_type": "execute_result"
    }
   ],
   "source": [
    "final_data"
   ]
  },
  {
   "cell_type": "code",
   "execution_count": 34,
   "id": "60cc027a",
   "metadata": {},
   "outputs": [
    {
     "data": {
      "text/plain": [
       "15.479"
      ]
     },
     "execution_count": 34,
     "metadata": {},
     "output_type": "execute_result"
    }
   ],
   "source": [
    "data[\"dia\"].mean()"
   ]
  },
  {
   "cell_type": "code",
   "execution_count": 35,
   "id": "deb6e06e",
   "metadata": {},
   "outputs": [
    {
     "data": {
      "text/plain": [
       "6.497"
      ]
     },
     "execution_count": 35,
     "metadata": {},
     "output_type": "execute_result"
    }
   ],
   "source": [
    "data[\"mes\"].mean()"
   ]
  },
  {
   "cell_type": "code",
   "execution_count": 36,
   "id": "242eb67d",
   "metadata": {},
   "outputs": [
    {
     "data": {
      "text/plain": [
       "2016.694"
      ]
     },
     "execution_count": 36,
     "metadata": {},
     "output_type": "execute_result"
    }
   ],
   "source": [
    "data[\"año\"].mean()"
   ]
  }
 ],
 "metadata": {
  "kernelspec": {
   "display_name": "Python 3 (ipykernel)",
   "language": "python",
   "name": "python3"
  },
  "language_info": {
   "codemirror_mode": {
    "name": "ipython",
    "version": 3
   },
   "file_extension": ".py",
   "mimetype": "text/x-python",
   "name": "python",
   "nbconvert_exporter": "python",
   "pygments_lexer": "ipython3",
   "version": "3.11.8"
  }
 },
 "nbformat": 4,
 "nbformat_minor": 5
}
