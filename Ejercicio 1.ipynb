{
 "cells": [
  {
   "cell_type": "code",
   "execution_count": 1,
   "id": "6728ff9e",
   "metadata": {},
   "outputs": [],
   "source": [
    "import re"
   ]
  },
  {
   "cell_type": "code",
   "execution_count": 2,
   "id": "8c54d937",
   "metadata": {},
   "outputs": [],
   "source": [
    "patron=r'^[a-zA-Z0-9._%+-]+@[a-zA-Z0-9.-]+\\.[a-zA-Z]{2,}$'"
   ]
  },
  {
   "cell_type": "code",
   "execution_count": 6,
   "id": "ded806c1",
   "metadata": {},
   "outputs": [
    {
     "data": {
      "text/plain": [
       "<re.Match object; span=(0, 32), match='Guate.360-porelmundo@miguate.com'>"
      ]
     },
     "execution_count": 6,
     "metadata": {},
     "output_type": "execute_result"
    }
   ],
   "source": [
    "re.compile(patron).match('Guate.360-porelmundo@miguate.com')"
   ]
  },
  {
   "cell_type": "code",
   "execution_count": 7,
   "id": "e30b41ea",
   "metadata": {},
   "outputs": [
    {
     "data": {
      "text/plain": [
       "<re.Match object; span=(0, 22), match='Miercoles3@hotmail.com'>"
      ]
     },
     "execution_count": 7,
     "metadata": {},
     "output_type": "execute_result"
    }
   ],
   "source": [
    "re.compile(patron).match('Miercoles3@hotmail.com')"
   ]
  },
  {
   "cell_type": "code",
   "execution_count": 8,
   "id": "b6730071",
   "metadata": {},
   "outputs": [
    {
     "data": {
      "text/plain": [
       "<re.Match object; span=(0, 27), match='Progra3.galileo@galileo.edu'>"
      ]
     },
     "execution_count": 8,
     "metadata": {},
     "output_type": "execute_result"
    }
   ],
   "source": [
    "re.compile(patron).match('Progra3.galileo@galileo.edu')"
   ]
  },
  {
   "cell_type": "code",
   "execution_count": 25,
   "id": "ed5e1ef4",
   "metadata": {},
   "outputs": [],
   "source": [
    "patron=r'^(https?:\\/\\/)?(www\\.)?[a-zA-Z0-9-]*[a-zA-Z][a-zA-Z0-9-]*\\.[a-zA-Z]{2,}((\\/[a-zA-Z0-9._%+-]*)*)$'"
   ]
  },
  {
   "cell_type": "code",
   "execution_count": 26,
   "id": "7fed913f",
   "metadata": {},
   "outputs": [
    {
     "data": {
      "text/plain": [
       "<re.Match object; span=(0, 35), match='https://www.guate360-porelmundo.com'>"
      ]
     },
     "execution_count": 26,
     "metadata": {},
     "output_type": "execute_result"
    }
   ],
   "source": [
    "re.compile(patron).match('https://www.guate360-porelmundo.com')"
   ]
  },
  {
   "cell_type": "code",
   "execution_count": 27,
   "id": "fc8a529c",
   "metadata": {},
   "outputs": [
    {
     "data": {
      "text/plain": [
       "<re.Match object; span=(0, 17), match='http://www.a2.net'>"
      ]
     },
     "execution_count": 27,
     "metadata": {},
     "output_type": "execute_result"
    }
   ],
   "source": [
    "re.compile(patron).match('http://www.a2.net')"
   ]
  },
  {
   "cell_type": "code",
   "execution_count": 28,
   "id": "7cd88cb0",
   "metadata": {},
   "outputs": [
    {
     "data": {
      "text/plain": [
       "<re.Match object; span=(0, 23), match='https://www.galileo.edu'>"
      ]
     },
     "execution_count": 28,
     "metadata": {},
     "output_type": "execute_result"
    }
   ],
   "source": [
    "re.compile(patron).match('https://www.galileo.edu')"
   ]
  },
  {
   "cell_type": "code",
   "execution_count": 29,
   "id": "af4df575",
   "metadata": {},
   "outputs": [],
   "source": [
    "re.compile(patron).match('http://www.8.org')"
   ]
  },
  {
   "cell_type": "code",
   "execution_count": 30,
   "id": "674f4a10",
   "metadata": {},
   "outputs": [],
   "source": [
    "patron=r'^([0-9A-F]{2}\\s){5}[0-9A-F]{2}$'"
   ]
  },
  {
   "cell_type": "code",
   "execution_count": 31,
   "id": "abf08769",
   "metadata": {},
   "outputs": [
    {
     "data": {
      "text/plain": [
       "<re.Match object; span=(0, 17), match='5A 6F AF 8C 9B 1D'>"
      ]
     },
     "execution_count": 31,
     "metadata": {},
     "output_type": "execute_result"
    }
   ],
   "source": [
    "re.compile(patron).match('5A 6F AF 8C 9B 1D')"
   ]
  },
  {
   "cell_type": "code",
   "execution_count": 32,
   "id": "4bcaa6b8",
   "metadata": {},
   "outputs": [
    {
     "data": {
      "text/plain": [
       "<re.Match object; span=(0, 17), match='6D 6C 4D 3A EB 3F'>"
      ]
     },
     "execution_count": 32,
     "metadata": {},
     "output_type": "execute_result"
    }
   ],
   "source": [
    "re.compile(patron).match('6D 6C 4D 3A EB 3F')"
   ]
  },
  {
   "cell_type": "code",
   "execution_count": 33,
   "id": "cc4ca936",
   "metadata": {},
   "outputs": [],
   "source": [
    "re.compile(patron).match('3A 7C FA C8 6D 4J')"
   ]
  },
  {
   "cell_type": "code",
   "execution_count": 34,
   "id": "61799e29",
   "metadata": {},
   "outputs": [],
   "source": [
    "patron=r'^((25[0-5]|2[0-4][0-9]|[01]?[0-9][0-9]?)\\.){3}(25[0-5]|2[0-4][0-9]|[01]?[0-9][0-9]?)$'"
   ]
  },
  {
   "cell_type": "code",
   "execution_count": 35,
   "id": "a4989291",
   "metadata": {},
   "outputs": [
    {
     "data": {
      "text/plain": [
       "<re.Match object; span=(0, 10), match='192.16.8.1'>"
      ]
     },
     "execution_count": 35,
     "metadata": {},
     "output_type": "execute_result"
    }
   ],
   "source": [
    "re.compile(patron).match('192.16.8.1')"
   ]
  },
  {
   "cell_type": "code",
   "execution_count": 36,
   "id": "2170b0b7",
   "metadata": {},
   "outputs": [
    {
     "data": {
      "text/plain": [
       "<re.Match object; span=(0, 12), match='234.56.78.90'>"
      ]
     },
     "execution_count": 36,
     "metadata": {},
     "output_type": "execute_result"
    }
   ],
   "source": [
    "re.compile(patron).match('234.56.78.90')"
   ]
  },
  {
   "cell_type": "code",
   "execution_count": 37,
   "id": "12d945da",
   "metadata": {},
   "outputs": [
    {
     "data": {
      "text/plain": [
       "<re.Match object; span=(0, 7), match='1.2.3.4'>"
      ]
     },
     "execution_count": 37,
     "metadata": {},
     "output_type": "execute_result"
    }
   ],
   "source": [
    "re.compile(patron).match('1.2.3.4')"
   ]
  },
  {
   "cell_type": "code",
   "execution_count": 38,
   "id": "a7569cbd",
   "metadata": {},
   "outputs": [],
   "source": [
    "re.compile(patron).match('92.168.45.345')"
   ]
  },
  {
   "cell_type": "code",
   "execution_count": 81,
   "id": "0e05a0aa",
   "metadata": {},
   "outputs": [],
   "source": [
    "patron=r'^(0?[1-9]|[12][0-9]|3[01])[-./](0?[1-9]|1[0-2])[-./](2000|200[0-9]|201[0-9]|0[0-9]|1[0-9])$'"
   ]
  },
  {
   "cell_type": "code",
   "execution_count": 82,
   "id": "815482ec",
   "metadata": {},
   "outputs": [
    {
     "data": {
      "text/plain": [
       "<re.Match object; span=(0, 9), match='20/1/2019'>"
      ]
     },
     "execution_count": 82,
     "metadata": {},
     "output_type": "execute_result"
    }
   ],
   "source": [
    "re.compile(patron).match('20/1/2019')"
   ]
  },
  {
   "cell_type": "code",
   "execution_count": 83,
   "id": "10c3d45a",
   "metadata": {},
   "outputs": [
    {
     "data": {
      "text/plain": [
       "<re.Match object; span=(0, 10), match='12.03.2005'>"
      ]
     },
     "execution_count": 83,
     "metadata": {},
     "output_type": "execute_result"
    }
   ],
   "source": [
    "re.compile(patron).match('12.03.2005')"
   ]
  },
  {
   "cell_type": "code",
   "execution_count": 84,
   "id": "aa4401ac",
   "metadata": {},
   "outputs": [
    {
     "data": {
      "text/plain": [
       "<re.Match object; span=(0, 8), match='30-11-08'>"
      ]
     },
     "execution_count": 84,
     "metadata": {},
     "output_type": "execute_result"
    }
   ],
   "source": [
    "re.compile(patron).match('30-11-08')"
   ]
  },
  {
   "cell_type": "code",
   "execution_count": 85,
   "id": "dbb50c58",
   "metadata": {},
   "outputs": [
    {
     "data": {
      "text/plain": [
       "<re.Match object; span=(0, 8), match='1-1-2012'>"
      ]
     },
     "execution_count": 85,
     "metadata": {},
     "output_type": "execute_result"
    }
   ],
   "source": [
    "re.compile(patron).match('1-1-2012')"
   ]
  },
  {
   "cell_type": "code",
   "execution_count": 86,
   "id": "6fc0af19",
   "metadata": {},
   "outputs": [],
   "source": [
    "re.compile(patron).match('12-12-22')"
   ]
  },
  {
   "cell_type": "code",
   "execution_count": null,
   "id": "48c71c4c",
   "metadata": {},
   "outputs": [],
   "source": []
  }
 ],
 "metadata": {
  "kernelspec": {
   "display_name": "Python 3 (ipykernel)",
   "language": "python",
   "name": "python3"
  },
  "language_info": {
   "codemirror_mode": {
    "name": "ipython",
    "version": 3
   },
   "file_extension": ".py",
   "mimetype": "text/x-python",
   "name": "python",
   "nbconvert_exporter": "python",
   "pygments_lexer": "ipython3",
   "version": "3.11.8"
  }
 },
 "nbformat": 4,
 "nbformat_minor": 5
}
